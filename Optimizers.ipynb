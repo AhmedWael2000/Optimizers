{
  "cells": [
    {
      "cell_type": "markdown",
      "metadata": {
        "id": "view-in-github",
        "colab_type": "text"
      },
      "source": [
        "<a href=\"https://colab.research.google.com/github/AhmedWael2000/Optimizers/blob/main/Optimizers.ipynb\" target=\"_parent\"><img src=\"https://colab.research.google.com/assets/colab-badge.svg\" alt=\"Open In Colab\"/></a>"
      ]
    },
    {
      "cell_type": "code",
      "execution_count": null,
      "metadata": {
        "id": "32WaZnrkeZYU"
      },
      "outputs": [],
      "source": [
        "import pandas as pd\n",
        "import numpy as np\n",
        "import matplotlib.pyplot as plt\n",
        "import seaborn as sns"
      ]
    },
    {
      "cell_type": "markdown",
      "metadata": {
        "id": "CTdRjQ9Qgz0k"
      },
      "source": [
        "#Loading mnist from Keras"
      ]
    },
    {
      "cell_type": "code",
      "execution_count": null,
      "metadata": {
        "id": "MSNybLqgzsn7",
        "colab": {
          "base_uri": "https://localhost:8080/",
          "height": 542
        },
        "outputId": "439107dc-26b1-4161-d713-30fc361c2ae2"
      },
      "outputs": [
        {
          "output_type": "stream",
          "name": "stdout",
          "text": [
            "Downloading data from https://storage.googleapis.com/tensorflow/tf-keras-datasets/mnist.npz\n",
            "11490434/11490434 [==============================] - 0s 0us/step\n"
          ]
        },
        {
          "output_type": "display_data",
          "data": {
            "text/plain": [
              "<Figure size 500x500 with 9 Axes>"
            ],
            "image/png": "[encoded data removed]"
          },
          "metadata": {}
        }
      ],
      "source": [
        "from keras.datasets import mnist\n",
        "\n",
        "# Load the MNIST dataset\n",
        "(x_train, y_train), (x_test, y_test) = mnist.load_data()\n",
        "\n",
        "x_train=x_train[np.where(y_train<2 )]\n",
        "x_test=x_test[np.where(y_test<2 )]\n",
        "\n",
        "y_train=y_train[np.where(y_train<2 )]\n",
        "y_test=y_test[np.where(y_test <2)]\n",
        "\n",
        "fig, axes = plt.subplots(nrows=3, ncols=3, figsize=(5, 5))\n",
        "for i, ax in enumerate(axes.flatten()):\n",
        "    ax.imshow(x_train[i], cmap='gray')\n",
        "    # ax.set_title(f'Label: {train_labels[indexes[i]]}')\n",
        "    ax.axis('off')\n",
        "plt.tight_layout()\n",
        "\n"
      ]
    },
    {
      "cell_type": "markdown",
      "metadata": {
        "id": "H_gP2CaxPp-7"
      },
      "source": [
        "#flatten the training data"
      ]
    },
    {
      "cell_type": "code",
      "execution_count": null,
      "metadata": {
        "id": "AerQoUiOPhXS",
        "colab": {
          "base_uri": "https://localhost:8080/"
        },
        "outputId": "45a7d575-9133-42e3-d0df-49a517d7b6a4"
      },
      "outputs": [
        {
          "output_type": "stream",
          "name": "stdout",
          "text": [
            "x_train shape: (12665, 784)\n"
          ]
        }
      ],
      "source": [
        "\n",
        "x_train=x_train.reshape(12665,-1)\n",
        "print('x_train shape:', x_train.shape)\n"
      ]
    },
    {
      "cell_type": "markdown",
      "metadata": {
        "id": "xU9LorvtYK7_"
      },
      "source": [
        "#normalizing training data"
      ]
    },
    {
      "cell_type": "code",
      "execution_count": null,
      "metadata": {
        "id": "DBjY2HXQYP50"
      },
      "outputs": [],
      "source": [
        "# x_train=x_train/255.0\n",
        "mean=np.mean(x_train,axis=0)\n",
        "std=np.std(x_train,axis=0)+1e-5\n",
        "x_train=(x_train - mean)/std\n"
      ]
    },
    {
      "cell_type": "markdown",
      "metadata": {
        "id": "3QZgxAoXeE6R"
      },
      "source": [
        "#Sigmoid Function and cross entropy fuction\n"
      ]
    },
    {
      "cell_type": "code",
      "execution_count": null,
      "metadata": {
        "id": "Q-cfgv3Phn0-"
      },
      "outputs": [],
      "source": [
        "def sigmoid(x):\n",
        "  return 1/(1+np.exp(-x))\n",
        "\n",
        "def sigCost(y,y_hat):\n",
        "  y_hat = np.clip(y_hat, 1e-10, 1 - 1e-10)\n",
        "  return np.mean( - (y * np.log(y_hat) + (1 - y) * np.log(1 - y_hat)))"
      ]
    },
    {
      "cell_type": "markdown",
      "metadata": {
        "id": "Nh7bxlB2eWyQ"
      },
      "source": [
        "#logistic function with lasso L1 optimizer"
      ]
    },
    {
      "cell_type": "code",
      "execution_count": null,
      "metadata": {
        "id": "4f2fWBlv-Q2o"
      },
      "outputs": [],
      "source": [
        "def lasso(X, y, w, b, l, iter,lambda_val):\n",
        "\n",
        "  y=y.reshape(-1,1)\n",
        "  cost=[]\n",
        "  for j in range(iter):\n",
        "    # print some stats during training\n",
        "\n",
        "    z = np.dot(X,w.T)+b\n",
        "    alphaZ=sigmoid(z)\n",
        "    cost.append(sigCost(y,alphaZ))\n",
        "    l1= l * lambda_val * np.sign(w)\n",
        "    w += (l*np.dot((y - alphaZ).T, X)/len(X))+l1\n",
        "    b += l*np.sum((y - alphaZ))/len(X)\n",
        "\n",
        "    # if j %(iter/10)==0:\n",
        "    #   print(f\"iter: {j} b:{b} cost:{cost[-1]}\")\n",
        "\n",
        "  return w, b,cost"
      ]
    },
    {
      "cell_type": "markdown",
      "metadata": {
        "id": "WTy1cR3BM8Pe"
      },
      "source": [
        "#accuracy"
      ]
    },
    {
      "cell_type": "code",
      "execution_count": null,
      "metadata": {
        "id": "ByfsXsceBFf8"
      },
      "outputs": [],
      "source": [
        "def accuracy(y,y_hat):\n",
        "  y_hat=np.round(y_hat).flatten()\n",
        "  y=np.round(y).flatten()\n",
        "\n",
        "  return (y==y_hat).sum()/y.size\n",
        "\n"
      ]
    },
    {
      "cell_type": "markdown",
      "metadata": {
        "id": "PrqYIKfXM0DK"
      },
      "source": [
        "#implementing KFold cross Validation"
      ]
    },
    {
      "cell_type": "code",
      "execution_count": null,
      "metadata": {
        "id": "FOOVYbzeBFgO",
        "colab": {
          "base_uri": "https://localhost:8080/"
        },
        "outputId": "19df3e1e-c52c-48cb-c7ee-b378caa32153"
      },
      "outputs": [
        {
          "output_type": "stream",
          "name": "stderr",
          "text": [
            "/usr/local/lib/python3.10/dist-packages/numpy/lib/function_base.py:5030: VisibleDeprecationWarning: Creating an ndarray from ragged nested sequences (which is a list-or-tuple of lists-or-tuples-or ndarrays with different lengths or shapes) is deprecated. If you meant to do this, you must specify 'dtype=object' when creating the ndarray.\n",
            "  arr = asarray(arr)\n"
          ]
        },
        {
          "output_type": "execute_result",
          "data": {
            "text/plain": [
              "((1267,), (11398,))"
            ]
          },
          "metadata": {},
          "execution_count": 8
        }
      ],
      "source": [
        "import random as rd\n",
        "def kfold(x_train,y_train,shuffle=True,k=10):\n",
        "  indx=list(range(len(x_train)))\n",
        "  if shuffle:\n",
        "    rd.shuffle(indx)\n",
        "  folds=np.array_split(indx,k)  \n",
        "  pairs=[]\n",
        "  for i in range(k):\n",
        "    train=folds[i]\n",
        "    val=np.concatenate(np.delete(folds,i,axis=0))\n",
        "    pairs.append((train,val))\n",
        "  return pairs\n",
        "\n",
        "pairs=kfold(x_train,y_train,shuffle=True,k=10)   \n",
        "pairs[0][0].shape,pairs[0][1].shape"
      ]
    },
    {
      "cell_type": "markdown",
      "metadata": {
        "id": "KcR_u-SVMaYY"
      },
      "source": [
        "#When $\\lambda$ is 0"
      ]
    },
    {
      "cell_type": "code",
      "execution_count": null,
      "metadata": {
        "id": "xpDknVsCBFgO",
        "colab": {
          "base_uri": "https://localhost:8080/"
        },
        "outputId": "ff2f54b7-2114-41c9-cc6a-f4fced3ef894"
      },
      "outputs": [
        {
          "output_type": "execute_result",
          "data": {
            "text/plain": [
              "('average train accuracy: ',\n",
              " 0.9958944453380315,\n",
              " 'average validation accuracy: ',\n",
              " 0.9836645426287227)"
            ]
          },
          "metadata": {},
          "execution_count": 9
        }
      ],
      "source": [
        "train_acc=[]\n",
        "val_acc_1=[]\n",
        "for train, val in pairs:\n",
        "  w = np.random.randn(1, 28*28)\n",
        "  b = np.zeros(1)\n",
        "  \n",
        "  w, b,cost = lasso(x_train[train], y_train[train], w, b, l=0.3, iter=100,lambda_val=0)\n",
        "    \n",
        "  train_acc.append(accuracy(y_train[train],sigmoid(np.dot(x_train[train],w.T)+b)))\n",
        "\n",
        "  val_acc_1.append(accuracy(y_train[val],sigmoid(np.dot(x_train[val],w.T)+b)))\n",
        "  \n",
        "\"average train accuracy: \",sum(train_acc)/len(train_acc),\"average validation accuracy: \" ,sum(val_acc_1)/len(val_acc_1)\n"
      ]
    },
    {
      "cell_type": "markdown",
      "metadata": {
        "id": "R0jBkAidNVot"
      },
      "source": [
        "#When $\\lambda$ is 0.02"
      ]
    },
    {
      "cell_type": "code",
      "execution_count": null,
      "metadata": {
        "colab": {
          "base_uri": "https://localhost:8080/"
        },
        "id": "ePdtzsevNVou",
        "outputId": "6bb3ebda-10aa-4eae-b592-80aea6527c3c"
      },
      "outputs": [
        {
          "output_type": "stream",
          "name": "stderr",
          "text": [
            "<ipython-input-5-e20d63e1c11c>:2: RuntimeWarning: overflow encountered in exp\n",
            "  return 1/(1+np.exp(-x))\n"
          ]
        },
        {
          "output_type": "execute_result",
          "data": {
            "text/plain": [
              "('average train accuracy: ',\n",
              " 0.9891043888425471,\n",
              " 'average validation accuracy: ',\n",
              " 0.976724977229696)"
            ]
          },
          "metadata": {},
          "execution_count": 10
        }
      ],
      "source": [
        "train_acc=[]\n",
        "val_acc_3=[]\n",
        "for train, val in pairs:\n",
        "  w = np.random.randn(1, 28*28)\n",
        "  b = np.zeros(1)\n",
        "  w, b,cost = lasso(x_train[train], y_train[train], w, b, l=0.3, iter=100,lambda_val=0.02)\n",
        "    \n",
        "  train_acc.append(accuracy(y_train[train],sigmoid(np.dot(x_train[train],w.T)+b)))\n",
        "\n",
        "  val_acc_3.append(accuracy(y_train[val],sigmoid(np.dot(x_train[val],w.T)+b)))\n",
        "  \n",
        "\"average train accuracy: \",sum(train_acc)/len(train_acc),\"average validation accuracy: \" ,sum(val_acc_3)/len(val_acc_3)\n"
      ]
    },
    {
      "cell_type": "markdown",
      "metadata": {
        "id": "m-NUjVfetJRw"
      },
      "source": [
        "#When $\\lambda$ is 0.2"
      ]
    },
    {
      "cell_type": "code",
      "execution_count": null,
      "metadata": {
        "colab": {
          "base_uri": "https://localhost:8080/"
        },
        "id": "swnm_3NPs6ya",
        "outputId": "5a5d253f-7ee7-4be4-8b1a-55288cafef6f"
      },
      "outputs": [
        {
          "output_type": "stream",
          "name": "stderr",
          "text": [
            "<ipython-input-5-e20d63e1c11c>:2: RuntimeWarning: overflow encountered in exp\n",
            "  return 1/(1+np.exp(-x))\n"
          ]
        },
        {
          "output_type": "execute_result",
          "data": {
            "text/plain": [
              "('average train accuracy: ',\n",
              " 0.935175140989338,\n",
              " 'average validation accuracy: ',\n",
              " 0.9282012159524712)"
            ]
          },
          "metadata": {},
          "execution_count": 11
        }
      ],
      "source": [
        "train_acc=[]\n",
        "val_acc_4=[]\n",
        "for train, val in pairs:\n",
        "  w = np.random.randn(1, 28*28)\n",
        "  b = np.zeros(1)\n",
        "    \n",
        "  w, b,cost = lasso(x_train[train], y_train[train], w, b, l=0.3, iter=100,lambda_val=0.2)\n",
        "  train_acc.append(accuracy(y_train[train],sigmoid(np.dot(x_train[train],w.T)+b)))\n",
        "\n",
        "  val_acc_4.append(accuracy(y_train[val],sigmoid(np.dot(x_train[val],w.T)+b)))\n",
        "  \n",
        "\"average train accuracy: \",sum(train_acc)/len(train_acc),\"average validation accuracy: \" ,sum(val_acc_4)/len(val_acc_4)\n"
      ]
    },
    {
      "cell_type": "markdown",
      "metadata": {
        "id": "fWibOAayDL3d"
      },
      "source": [
        "#Comparing Validation Accuracy for each Case"
      ]
    },
    {
      "cell_type": "code",
      "execution_count": null,
      "metadata": {
        "colab": {
          "base_uri": "https://localhost:8080/"
        },
        "id": "poiT-xJap9rS",
        "outputId": "659fe29f-50c9-443e-9227-a5718b3dcb12"
      },
      "outputs": [
        {
          "output_type": "execute_result",
          "data": {
            "text/plain": [
              "<matplotlib.legend.Legend at 0x7f22b608cbb0>"
            ]
          },
          "metadata": {},
          "execution_count": 12
        },
        {
          "output_type": "display_data",
          "data": {
            "text/plain": [
              "<Figure size 640x480 with 1 Axes>"
            ],
            "image/png": "[encoded data removed]"
          },
          "metadata": {}
        }
      ],
      "source": [
        "# create sample data\n",
        "x = np.linspace(0,9,10)\n",
        "y1 = val_acc_1\n",
        "y3 = val_acc_3\n",
        "y4=val_acc_4\n",
        "# plot the data\n",
        "plt.plot(x, y4, color='blue', linestyle='-.', label='lambda_0.2')\n",
        "plt.plot(x, y1, color='red', linestyle='-', label='lambda_0')\n",
        "plt.plot(x, y3, color='black', linestyle='-.', label='lambda_0.02')\n",
        "\n",
        "plt.legend()"
      ]
    },
    {
      "cell_type": "markdown",
      "metadata": {
        "id": "x9XWGo1pdJm4"
      },
      "source": [
        "#Visualizing using Plotly library"
      ]
    },
    {
      "cell_type": "code",
      "execution_count": null,
      "metadata": {
        "id": "QxJ8vOIIXeJQ"
      },
      "outputs": [],
      "source": [
        "lists={\n",
        "    'lambda_0.2':y4,\n",
        "    'lambda_0':y1,\n",
        "    'lambda_0.02':y3,\n",
        "    'x':x\n",
        "      }\n",
        "data=pd.DataFrame(lists)\n",
        "df = pd.melt(data, id_vars=['x'], var_name='line', value_name='y')\n",
        "# df"
      ]
    },
    {
      "cell_type": "code",
      "execution_count": null,
      "metadata": {
        "id": "dX48UIwhdVEq"
      },
      "outputs": [],
      "source": []
    },
    {
      "cell_type": "code",
      "execution_count": null,
      "metadata": {
        "colab": {
          "base_uri": "https://localhost:8080/"
        },
        "id": "Rt9wXW5EZf70",
        "outputId": "85c48a66-c6ce-4a3a-ee3c-4f98ea619639"
      },
      "outputs": [
        {
          "output_type": "display_data",
          "data": {
            "text/html": [
              "<html>\n",
              "<head><meta charset=\"utf-8\" /></head>\n",
              "<body>\n",
              "    <div>            <script src=\"https://cdnjs.cloudflare.com/ajax/libs/mathjax/2.7.5/MathJax.js?config=TeX-AMS-MML_SVG\"></script><script type=\"text/javascript\">if (window.MathJax && window.MathJax.Hub && window.MathJax.Hub.Config) {window.MathJax.Hub.Config({SVG: {font: \"STIX-Web\"}});}</script>                <script type=\"text/javascript\">window.PlotlyConfig = {MathJaxConfig: 'local'};</script>\n",
              "        <script src=\"https://cdn.plot.ly/plotly-2.18.2.min.js\"></script>                <div id=\"7ea21ba0-fce3-4f64-a4a5-b26f1d0d80b4\" class=\"plotly-graph-div\" style=\"height:525px; width:100%;\"></div>            <script type=\"text/javascript\">                                    window.PLOTLYENV=window.PLOTLYENV || {};                                    if (document.getElementById(\"7ea21ba0-fce3-4f64-a4a5-b26f1d0d80b4\")) {                    Plotly.newPlot(                        \"7ea21ba0-fce3-4f64-a4a5-b26f1d0d80b4\",                        [{\"hovertemplate\":\"line=lambda_0.2<br>x=%{x}<br>y=%{y}<extra></extra>\",\"legendgroup\":\"lambda_0.2\",\"line\":{\"color\":\"#636efa\",\"dash\":\"solid\"},\"marker\":{\"symbol\":\"circle\"},\"mode\":\"markers+lines\",\"name\":\"lambda_0.2\",\"orientation\":\"v\",\"showlegend\":true,\"x\":[0.0,1.0,2.0,3.0,4.0,5.0,6.0,7.0,8.0,9.0],\"xaxis\":\"x\",\"y\":[0.923934023512897,0.9427969819266538,0.9362168801544131,0.9201614318301456,0.9334971047552202,0.9360470216685675,0.9335029388542855,0.9139398192823932,0.9107816475129398,0.9311343100271954],\"yaxis\":\"y\",\"type\":\"scatter\"},{\"hovertemplate\":\"line=lambda_0<br>x=%{x}<br>y=%{y}<extra></extra>\",\"legendgroup\":\"lambda_0\",\"line\":{\"color\":\"#EF553B\",\"dash\":\"solid\"},\"marker\":{\"symbol\":\"circle\"},\"mode\":\"markers+lines\",\"name\":\"lambda_0\",\"orientation\":\"v\",\"showlegend\":true,\"x\":[0.0,1.0,2.0,3.0,4.0,5.0,6.0,7.0,8.0,9.0],\"xaxis\":\"x\",\"y\":[0.9878048780487805,0.9822775925600983,0.9835058782242498,0.984646429198105,0.9829794700824707,0.9799105184665321,0.9778927976138257,0.9855250460566717,0.986314588999035,0.9857882270374594],\"yaxis\":\"y\",\"type\":\"scatter\"},{\"hovertemplate\":\"line=lambda_0.02<br>x=%{x}<br>y=%{y}<extra></extra>\",\"legendgroup\":\"lambda_0.02\",\"line\":{\"color\":\"#00cc96\",\"dash\":\"solid\"},\"marker\":{\"symbol\":\"circle\"},\"mode\":\"markers+lines\",\"name\":\"lambda_0.02\",\"orientation\":\"v\",\"showlegend\":true,\"x\":[0.0,1.0,2.0,3.0,4.0,5.0,6.0,7.0,8.0,9.0],\"xaxis\":\"x\",\"y\":[0.9778031233549745,0.9769257764520092,0.980610633444464,0.9730654500789612,0.9717494297245131,0.9815773313448548,0.9692955522414247,0.9808755153960874,0.9721905430300903,0.9831564172295816],\"yaxis\":\"y\",\"type\":\"scatter\"}],                        {\"template\":{\"data\":{\"histogram2dcontour\":[{\"type\":\"histogram2dcontour\",\"colorbar\":{\"outlinewidth\":0,\"ticks\":\"\"},\"colorscale\":[[0.0,\"#0d0887\"],[0.1111111111111111,\"#46039f\"],[0.2222222222222222,\"#7201a8\"],[0.3333333333333333,\"#9c179e\"],[0.4444444444444444,\"#bd3786\"],[0.5555555555555556,\"#d8576b\"],[0.6666666666666666,\"#ed7953\"],[0.7777777777777778,\"#fb9f3a\"],[0.8888888888888888,\"#fdca26\"],[1.0,\"#f0f921\"]]}],\"choropleth\":[{\"type\":\"choropleth\",\"colorbar\":{\"outlinewidth\":0,\"ticks\":\"\"}}],\"histogram2d\":[{\"type\":\"histogram2d\",\"colorbar\":{\"outlinewidth\":0,\"ticks\":\"\"},\"colorscale\":[[0.0,\"#0d0887\"],[0.1111111111111111,\"#46039f\"],[0.2222222222222222,\"#7201a8\"],[0.3333333333333333,\"#9c179e\"],[0.4444444444444444,\"#bd3786\"],[0.5555555555555556,\"#d8576b\"],[0.6666666666666666,\"#ed7953\"],[0.7777777777777778,\"#fb9f3a\"],[0.8888888888888888,\"#fdca26\"],[1.0,\"#f0f921\"]]}],\"heatmap\":[{\"type\":\"heatmap\",\"colorbar\":{\"outlinewidth\":0,\"ticks\":\"\"},\"colorscale\":[[0.0,\"#0d0887\"],[0.1111111111111111,\"#46039f\"],[0.2222222222222222,\"#7201a8\"],[0.3333333333333333,\"#9c179e\"],[0.4444444444444444,\"#bd3786\"],[0.5555555555555556,\"#d8576b\"],[0.6666666666666666,\"#ed7953\"],[0.7777777777777778,\"#fb9f3a\"],[0.8888888888888888,\"#fdca26\"],[1.0,\"#f0f921\"]]}],\"heatmapgl\":[{\"type\":\"heatmapgl\",\"colorbar\":{\"outlinewidth\":0,\"ticks\":\"\"},\"colorscale\":[[0.0,\"#0d0887\"],[0.1111111111111111,\"#46039f\"],[0.2222222222222222,\"#7201a8\"],[0.3333333333333333,\"#9c179e\"],[0.4444444444444444,\"#bd3786\"],[0.5555555555555556,\"#d8576b\"],[0.6666666666666666,\"#ed7953\"],[0.7777777777777778,\"#fb9f3a\"],[0.8888888888888888,\"#fdca26\"],[1.0,\"#f0f921\"]]}],\"contourcarpet\":[{\"type\":\"contourcarpet\",\"colorbar\":{\"outlinewidth\":0,\"ticks\":\"\"}}],\"contour\":[{\"type\":\"contour\",\"colorbar\":{\"outlinewidth\":0,\"ticks\":\"\"},\"colorscale\":[[0.0,\"#0d0887\"],[0.1111111111111111,\"#46039f\"],[0.2222222222222222,\"#7201a8\"],[0.3333333333333333,\"#9c179e\"],[0.4444444444444444,\"#bd3786\"],[0.5555555555555556,\"#d8576b\"],[0.6666666666666666,\"#ed7953\"],[0.7777777777777778,\"#fb9f3a\"],[0.8888888888888888,\"#fdca26\"],[1.0,\"#f0f921\"]]}],\"surface\":[{\"type\":\"surface\",\"colorbar\":{\"outlinewidth\":0,\"ticks\":\"\"},\"colorscale\":[[0.0,\"#0d0887\"],[0.1111111111111111,\"#46039f\"],[0.2222222222222222,\"#7201a8\"],[0.3333333333333333,\"#9c179e\"],[0.4444444444444444,\"#bd3786\"],[0.5555555555555556,\"#d8576b\"],[0.6666666666666666,\"#ed7953\"],[0.7777777777777778,\"#fb9f3a\"],[0.8888888888888888,\"#fdca26\"],[1.0,\"#f0f921\"]]}],\"mesh3d\":[{\"type\":\"mesh3d\",\"colorbar\":{\"outlinewidth\":0,\"ticks\":\"\"}}],\"scatter\":[{\"fillpattern\":{\"fillmode\":\"overlay\",\"size\":10,\"solidity\":0.2},\"type\":\"scatter\"}],\"parcoords\":[{\"type\":\"parcoords\",\"line\":{\"colorbar\":{\"outlinewidth\":0,\"ticks\":\"\"}}}],\"scatterpolargl\":[{\"type\":\"scatterpolargl\",\"marker\":{\"colorbar\":{\"outlinewidth\":0,\"ticks\":\"\"}}}],\"bar\":[{\"error_x\":{\"color\":\"#2a3f5f\"},\"error_y\":{\"color\":\"#2a3f5f\"},\"marker\":{\"line\":{\"color\":\"#E5ECF6\",\"width\":0.5},\"pattern\":{\"fillmode\":\"overlay\",\"size\":10,\"solidity\":0.2}},\"type\":\"bar\"}],\"scattergeo\":[{\"type\":\"scattergeo\",\"marker\":{\"colorbar\":{\"outlinewidth\":0,\"ticks\":\"\"}}}],\"scatterpolar\":[{\"type\":\"scatterpolar\",\"marker\":{\"colorbar\":{\"outlinewidth\":0,\"ticks\":\"\"}}}],\"histogram\":[{\"marker\":{\"pattern\":{\"fillmode\":\"overlay\",\"size\":10,\"solidity\":0.2}},\"type\":\"histogram\"}],\"scattergl\":[{\"type\":\"scattergl\",\"marker\":{\"colorbar\":{\"outlinewidth\":0,\"ticks\":\"\"}}}],\"scatter3d\":[{\"type\":\"scatter3d\",\"line\":{\"colorbar\":{\"outlinewidth\":0,\"ticks\":\"\"}},\"marker\":{\"colorbar\":{\"outlinewidth\":0,\"ticks\":\"\"}}}],\"scattermapbox\":[{\"type\":\"scattermapbox\",\"marker\":{\"colorbar\":{\"outlinewidth\":0,\"ticks\":\"\"}}}],\"scatterternary\":[{\"type\":\"scatterternary\",\"marker\":{\"colorbar\":{\"outlinewidth\":0,\"ticks\":\"\"}}}],\"scattercarpet\":[{\"type\":\"scattercarpet\",\"marker\":{\"colorbar\":{\"outlinewidth\":0,\"ticks\":\"\"}}}],\"carpet\":[{\"aaxis\":{\"endlinecolor\":\"#2a3f5f\",\"gridcolor\":\"white\",\"linecolor\":\"white\",\"minorgridcolor\":\"white\",\"startlinecolor\":\"#2a3f5f\"},\"baxis\":{\"endlinecolor\":\"#2a3f5f\",\"gridcolor\":\"white\",\"linecolor\":\"white\",\"minorgridcolor\":\"white\",\"startlinecolor\":\"#2a3f5f\"},\"type\":\"carpet\"}],\"table\":[{\"cells\":{\"fill\":{\"color\":\"#EBF0F8\"},\"line\":{\"color\":\"white\"}},\"header\":{\"fill\":{\"color\":\"#C8D4E3\"},\"line\":{\"color\":\"white\"}},\"type\":\"table\"}],\"barpolar\":[{\"marker\":{\"line\":{\"color\":\"#E5ECF6\",\"width\":0.5},\"pattern\":{\"fillmode\":\"overlay\",\"size\":10,\"solidity\":0.2}},\"type\":\"barpolar\"}],\"pie\":[{\"automargin\":true,\"type\":\"pie\"}]},\"layout\":{\"autotypenumbers\":\"strict\",\"colorway\":[\"#636efa\",\"#EF553B\",\"#00cc96\",\"#ab63fa\",\"#FFA15A\",\"#19d3f3\",\"#FF6692\",\"#B6E880\",\"#FF97FF\",\"#FECB52\"],\"font\":{\"color\":\"#2a3f5f\"},\"hovermode\":\"closest\",\"hoverlabel\":{\"align\":\"left\"},\"paper_bgcolor\":\"white\",\"plot_bgcolor\":\"#E5ECF6\",\"polar\":{\"bgcolor\":\"#E5ECF6\",\"angularaxis\":{\"gridcolor\":\"white\",\"linecolor\":\"white\",\"ticks\":\"\"},\"radialaxis\":{\"gridcolor\":\"white\",\"linecolor\":\"white\",\"ticks\":\"\"}},\"ternary\":{\"bgcolor\":\"#E5ECF6\",\"aaxis\":{\"gridcolor\":\"white\",\"linecolor\":\"white\",\"ticks\":\"\"},\"baxis\":{\"gridcolor\":\"white\",\"linecolor\":\"white\",\"ticks\":\"\"},\"caxis\":{\"gridcolor\":\"white\",\"linecolor\":\"white\",\"ticks\":\"\"}},\"coloraxis\":{\"colorbar\":{\"outlinewidth\":0,\"ticks\":\"\"}},\"colorscale\":{\"sequential\":[[0.0,\"#0d0887\"],[0.1111111111111111,\"#46039f\"],[0.2222222222222222,\"#7201a8\"],[0.3333333333333333,\"#9c179e\"],[0.4444444444444444,\"#bd3786\"],[0.5555555555555556,\"#d8576b\"],[0.6666666666666666,\"#ed7953\"],[0.7777777777777778,\"#fb9f3a\"],[0.8888888888888888,\"#fdca26\"],[1.0,\"#f0f921\"]],\"sequentialminus\":[[0.0,\"#0d0887\"],[0.1111111111111111,\"#46039f\"],[0.2222222222222222,\"#7201a8\"],[0.3333333333333333,\"#9c179e\"],[0.4444444444444444,\"#bd3786\"],[0.5555555555555556,\"#d8576b\"],[0.6666666666666666,\"#ed7953\"],[0.7777777777777778,\"#fb9f3a\"],[0.8888888888888888,\"#fdca26\"],[1.0,\"#f0f921\"]],\"diverging\":[[0,\"#8e0152\"],[0.1,\"#c51b7d\"],[0.2,\"#de77ae\"],[0.3,\"#f1b6da\"],[0.4,\"#fde0ef\"],[0.5,\"#f7f7f7\"],[0.6,\"#e6f5d0\"],[0.7,\"#b8e186\"],[0.8,\"#7fbc41\"],[0.9,\"#4d9221\"],[1,\"#276419\"]]},\"xaxis\":{\"gridcolor\":\"white\",\"linecolor\":\"white\",\"ticks\":\"\",\"title\":{\"standoff\":15},\"zerolinecolor\":\"white\",\"automargin\":true,\"zerolinewidth\":2},\"yaxis\":{\"gridcolor\":\"white\",\"linecolor\":\"white\",\"ticks\":\"\",\"title\":{\"standoff\":15},\"zerolinecolor\":\"white\",\"automargin\":true,\"zerolinewidth\":2},\"scene\":{\"xaxis\":{\"backgroundcolor\":\"#E5ECF6\",\"gridcolor\":\"white\",\"linecolor\":\"white\",\"showbackground\":true,\"ticks\":\"\",\"zerolinecolor\":\"white\",\"gridwidth\":2},\"yaxis\":{\"backgroundcolor\":\"#E5ECF6\",\"gridcolor\":\"white\",\"linecolor\":\"white\",\"showbackground\":true,\"ticks\":\"\",\"zerolinecolor\":\"white\",\"gridwidth\":2},\"zaxis\":{\"backgroundcolor\":\"#E5ECF6\",\"gridcolor\":\"white\",\"linecolor\":\"white\",\"showbackground\":true,\"ticks\":\"\",\"zerolinecolor\":\"white\",\"gridwidth\":2}},\"shapedefaults\":{\"line\":{\"color\":\"#2a3f5f\"}},\"annotationdefaults\":{\"arrowcolor\":\"#2a3f5f\",\"arrowhead\":0,\"arrowwidth\":1},\"geo\":{\"bgcolor\":\"white\",\"landcolor\":\"#E5ECF6\",\"subunitcolor\":\"white\",\"showland\":true,\"showlakes\":true,\"lakecolor\":\"white\"},\"title\":{\"x\":0.05},\"mapbox\":{\"style\":\"light\"}}},\"xaxis\":{\"anchor\":\"y\",\"domain\":[0.0,1.0],\"title\":{\"text\":\"x\"}},\"yaxis\":{\"anchor\":\"x\",\"domain\":[0.0,1.0],\"title\":{\"text\":\"y\"}},\"legend\":{\"title\":{\"text\":\"line\"},\"tracegroupgap\":0},\"margin\":{\"t\":60}},                        {\"responsive\": true}                    ).then(function(){\n",
              "                            \n",
              "var gd = document.getElementById('7ea21ba0-fce3-4f64-a4a5-b26f1d0d80b4');\n",
              "var x = new MutationObserver(function (mutations, observer) {{\n",
              "        var display = window.getComputedStyle(gd).display;\n",
              "        if (!display || display === 'none') {{\n",
              "            console.log([gd, 'removed!']);\n",
              "            Plotly.purge(gd);\n",
              "            observer.disconnect();\n",
              "        }}\n",
              "}});\n",
              "\n",
              "// Listen for the removal of the full notebook cells\n",
              "var notebookContainer = gd.closest('#notebook-container');\n",
              "if (notebookContainer) {{\n",
              "    x.observe(notebookContainer, {childList: true});\n",
              "}}\n",
              "\n",
              "// Listen for the clearing of the current output cell\n",
              "var outputEl = gd.closest('.output');\n",
              "if (outputEl) {{\n",
              "    x.observe(outputEl, {childList: true});\n",
              "}}\n",
              "\n",
              "                        })                };                            </script>        </div>\n",
              "</body>\n",
              "</html>"
            ]
          },
          "metadata": {}
        }
      ],
      "source": [
        "import plotly.express as px\n",
        "fig = px.line(df, x='x', y='y', color='line',markers=True)\n",
        "fig.show()\n"
      ]
    },
    {
      "cell_type": "code",
      "execution_count": null,
      "metadata": {
        "id": "D2V1uIHRZ3WW"
      },
      "outputs": [],
      "source": []
    },
    {
      "cell_type": "markdown",
      "metadata": {
        "id": "PjCl5Y3z_eQ1"
      },
      "source": [
        "#logistic function with mini-batch gradient descent with momintum\n",
        "\n"
      ]
    },
    {
      "cell_type": "code",
      "execution_count": null,
      "metadata": {
        "id": "sDDQ_frR_eRJ"
      },
      "outputs": [],
      "source": [
        "def mini_batch(X, y, w, b, l, iter,batch_size=500):\n",
        "  m,n = X.shape\n",
        "  y=y.reshape(-1,1)\n",
        "  cost=[]\n",
        "  num_batches= m//batch_size\n",
        "  v_dw=0\n",
        "  v_db=0\n",
        "  for j in range(iter):\n",
        "\n",
        "    shuffled_indices = np.random.permutation(m)\n",
        "    X_shuffled = X[shuffled_indices]\n",
        "    y_shuffled = y[shuffled_indices]\n",
        "\n",
        "    for batch in range(num_batches):\n",
        "      start_indx= batch*batch_size\n",
        "      end_indx= start_indx + batch_size\n",
        "        \n",
        "      z = np.dot(X_shuffled[start_indx:end_indx],w.T)+b\n",
        "      alphaZ=sigmoid(z)\n",
        "      cost.append(sigCost(y_shuffled[start_indx:end_indx],alphaZ))\n",
        "      v_dw=0.1*v_dw+0.9*(np.dot((alphaZ-y_shuffled[start_indx:end_indx]).T, X_shuffled[start_indx:end_indx])/batch_size)\n",
        "      w -= l*v_dw/(1-0.9**(j+1))\n",
        "      v_db=(0.1*v_db+0.9*np.sum((alphaZ-y_shuffled[start_indx:end_indx]))/batch_size)\n",
        "      b -= l*v_db/(1-0.9**(j+1))\n",
        "\n",
        "      # if j %(iter/10)==0:\n",
        "      #   print(f\"iter: {j} b:{b} cost:{cost[-1]}\")\n",
        "\n",
        "  return w, b,cost"
      ]
    },
    {
      "cell_type": "code",
      "execution_count": null,
      "metadata": {
        "colab": {
          "base_uri": "https://localhost:8080/"
        },
        "outputId": "82716021-5b29-43d8-862f-5ea660e49929",
        "id": "bSbDiCwjDQ0q"
      },
      "outputs": [
        {
          "output_type": "execute_result",
          "data": {
            "text/plain": [
              "('average train accuracy: ',\n",
              " 0.9947096735580934,\n",
              " 'average validation accuracy: ',\n",
              " 0.9898320135056778)"
            ]
          },
          "metadata": {},
          "execution_count": 16
        }
      ],
      "source": [
        "train_acc=[]\n",
        "momentum=[]\n",
        "for train, val in pairs:\n",
        "  w = np.random.randn(1, 28*28)\n",
        "  b = np.zeros(1)\n",
        "    \n",
        "  w, b,cost = mini_batch(x_train[train], y_train[train], w, b, l=0.3, iter=10)\n",
        "  train_acc.append(accuracy(y_train[train],sigmoid(np.dot(x_train[train],w.T)+b)))\n",
        "\n",
        "  momentum.append(accuracy(y_train[val],sigmoid(np.dot(x_train[val],w.T)+b)))\n",
        "  \n",
        "\"average train accuracy: \",sum(train_acc)/len(train_acc),\"average validation accuracy: \" ,sum(momentum)/len(momentum)\n"
      ]
    },
    {
      "cell_type": "code",
      "source": [
        "plt.plot(x, val_acc_4, color='black', linestyle='-.', label='lambda_0.02')\n"
      ],
      "metadata": {
        "colab": {
          "base_uri": "https://localhost:8080/"
        },
        "id": "A3eOWNFaD6UE",
        "outputId": "f1ec2159-e29a-4978-8d43-582a9d9af06f"
      },
      "execution_count": null,
      "outputs": [
        {
          "output_type": "execute_result",
          "data": {
            "text/plain": [
              "[<matplotlib.lines.Line2D at 0x7f22b29bd510>]"
            ]
          },
          "metadata": {},
          "execution_count": 17
        },
        {
          "output_type": "display_data",
          "data": {
            "text/plain": [
              "<Figure size 640x480 with 1 Axes>"
            ],
            "image/png": "[encoded data removed]"
          },
          "metadata": {}
        }
      ]
    },
    {
      "cell_type": "code",
      "source": [],
      "metadata": {
        "id": "UQp8PGhdN93W"
      },
      "execution_count": null,
      "outputs": []
    },
    {
      "cell_type": "markdown",
      "metadata": {
        "id": "u2qfmIHFT_Po"
      },
      "source": [
        "#logistic function with mini-batch gradient descent with RMS Prop\n",
        "\n"
      ]
    },
    {
      "cell_type": "code",
      "execution_count": null,
      "metadata": {
        "id": "hAKo7CsMT_Pp"
      },
      "outputs": [],
      "source": [
        "def RMS(X, y, w, b, l, iter,batch_size=500):\n",
        "  m,n = X.shape\n",
        "  y=y.reshape(-1,1)\n",
        "  cost=[]\n",
        "  num_batches= m//batch_size\n",
        "  s_dw=0\n",
        "  s_db=0\n",
        "  for j in range(iter):\n",
        "\n",
        "    shuffled_indices = np.random.permutation(m)\n",
        "    X_shuffled = X[shuffled_indices]\n",
        "    y_shuffled = y[shuffled_indices]\n",
        "\n",
        "    for batch in range(num_batches):\n",
        "      start_indx= batch*batch_size\n",
        "      end_indx= start_indx + batch_size\n",
        "        \n",
        "      z = np.dot(X_shuffled[start_indx:end_indx],w.T)+b\n",
        "      alphaZ=sigmoid(z)\n",
        "      cost.append(sigCost(y_shuffled[start_indx:end_indx],alphaZ))\n",
        "\n",
        "      w_dw=(np.dot((alphaZ-y_shuffled[start_indx:end_indx]).T, X_shuffled[start_indx:end_indx])/batch_size)\n",
        "      b_db=np.sum((alphaZ-y_shuffled[start_indx:end_indx]))/batch_size\n",
        "      s_dw=(0.9*s_dw+0.1*w_dw**2)\n",
        "      w -= l*w_dw/(np.sqrt(s_dw)+1e-8)\n",
        "      s_db=(0.9*s_db+0.1*b_db**2)\n",
        "      b -= l*b_db/(np.sqrt(s_db)+1e-8)\n",
        "\n",
        "      # if j %(iter/10)==0:\n",
        "      #   print(f\"iter: {j} b:{b} cost:{cost[-1]}\")\n",
        "\n",
        "  return w, b,cost"
      ]
    },
    {
      "cell_type": "code",
      "execution_count": null,
      "metadata": {
        "colab": {
          "base_uri": "https://localhost:8080/"
        },
        "outputId": "8536cea4-440f-49fb-9bbd-abaff5187922",
        "id": "G8lwy5w0T_Pp"
      },
      "outputs": [
        {
          "output_type": "stream",
          "name": "stderr",
          "text": [
            "<ipython-input-5-e20d63e1c11c>:2: RuntimeWarning:\n",
            "\n",
            "overflow encountered in exp\n",
            "\n"
          ]
        },
        {
          "output_type": "execute_result",
          "data": {
            "text/plain": [
              "('average train accuracy: ',\n",
              " 1.0,\n",
              " 'average validation accuracy: ',\n",
              " 0.9898144173087344)"
            ]
          },
          "metadata": {},
          "execution_count": 19
        }
      ],
      "source": [
        "train_acc=[]\n",
        "rms=[]\n",
        "for train, val in pairs:\n",
        "  w = np.random.randn(1, 28*28)\n",
        "  b = np.zeros(1)\n",
        "    \n",
        "  w, b,cost = RMS(x_train[train], y_train[train], w, b, l=0.3, iter=100)\n",
        "  train_acc.append(accuracy(y_train[train],sigmoid(np.dot(x_train[train],w.T)+b)))\n",
        "\n",
        "  rms.append(accuracy(y_train[val],sigmoid(np.dot(x_train[val],w.T)+b)))\n",
        "  \n",
        "\"average train accuracy: \",sum(train_acc)/len(train_acc),\"average validation accuracy: \" ,sum(rms)/len(rms)\n"
      ]
    },
    {
      "cell_type": "code",
      "source": [],
      "metadata": {
        "id": "cNrsy7ATW9Tz"
      },
      "execution_count": null,
      "outputs": []
    },
    {
      "cell_type": "markdown",
      "metadata": {
        "id": "vJVSeES_iu7r"
      },
      "source": [
        "#logistic function with mini-batch gradient descent with Adam\n",
        "\n"
      ]
    },
    {
      "cell_type": "code",
      "execution_count": null,
      "metadata": {
        "id": "eOx8Gi3-iu76"
      },
      "outputs": [],
      "source": [
        "def adam(X, y, w, b, l, iter,batch_size=500):\n",
        "  m,n = X.shape\n",
        "  y=y.reshape(-1,1)\n",
        "  cost=[]\n",
        "  num_batches= m//batch_size\n",
        "  s_dw=0\n",
        "  s_db=0\n",
        "  for j in range(iter):\n",
        "\n",
        "    shuffled_indices = np.random.permutation(m)\n",
        "    X_shuffled = X[shuffled_indices]\n",
        "    y_shuffled = y[shuffled_indices]\n",
        "\n",
        "    for batch in range(num_batches):\n",
        "      start_indx= batch*batch_size\n",
        "      end_indx= start_indx + batch_size\n",
        "        \n",
        "      z = np.dot(X_shuffled[start_indx:end_indx],w.T)+b\n",
        "      alphaZ=sigmoid(z)\n",
        "      cost.append(sigCost(y_shuffled[start_indx:end_indx],alphaZ))\n",
        "\n",
        "      w_dw=(np.dot((alphaZ-y_shuffled[start_indx:end_indx]).T, X_shuffled[start_indx:end_indx])/batch_size)\n",
        "      b_db=np.sum((alphaZ-y_shuffled[start_indx:end_indx]))/batch_size\n",
        "      \n",
        "      s_dw=(0.9*s_dw+0.1*w_dw**2)/(1-0.9**(j+1))\n",
        "      s_db=(0.9*s_db+0.1*b_db**2)/(1-0.9**(j+1))\n",
        "      \n",
        "      v_dw=(0.9*v_dw+0.1*w_dw**2)/(1-0.9**(j+1))\n",
        "      v_db=(0.9*v_db+0.1*b_db**2)/(1-0.9**(j+1))\n",
        "      \n",
        "      w -= l*v_dw/(np.sqrt(s_dw)+1e-8)\n",
        "      b -= l*v_db/(np.sqrt(s_db)+1e-8)\n",
        "\n",
        "      # if j %(iter/10)==0:\n",
        "      #   print(f\"iter: {j} b:{b} cost:{cost[-1]}\")\n",
        "\n",
        "  return w, b,cost"
      ]
    },
    {
      "cell_type": "code",
      "execution_count": null,
      "metadata": {
        "colab": {
          "base_uri": "https://localhost:8080/"
        },
        "outputId": "7e0b481b-8bb3-4a2a-9d99-180bb6212ba2",
        "id": "1KVJUVMBiu78"
      },
      "outputs": [
        {
          "output_type": "execute_result",
          "data": {
            "text/plain": [
              "('average train accuracy: ',\n",
              " 0.9939205322620263,\n",
              " 'average validation accuracy: ',\n",
              " 0.9879895742340693)"
            ]
          },
          "metadata": {},
          "execution_count": 21
        }
      ],
      "source": [
        "train_acc=[]\n",
        "adam=[]\n",
        "for train, val in pairs:\n",
        "  w = np.random.randn(1, 28*28)\n",
        "  b = np.zeros(1)\n",
        "    \n",
        "  w, b,cost = mini_batch(x_train[train], y_train[train], w, b, l=0.3, iter=10)\n",
        "  train_acc.append(accuracy(y_train[train],sigmoid(np.dot(x_train[train],w.T)+b)))\n",
        "\n",
        "  adam.append(accuracy(y_train[val],sigmoid(np.dot(x_train[val],w.T)+b)))\n",
        "  \n",
        "\"average train accuracy: \",sum(train_acc)/len(train_acc),\"average validation accuracy: \" ,sum(adam)/len(adam)\n"
      ]
    },
    {
      "cell_type": "markdown",
      "source": [
        "## comparing adam, mommentum and rms"
      ],
      "metadata": {
        "id": "S739sWyCwAPS"
      }
    },
    {
      "cell_type": "code",
      "source": [
        "lists={\n",
        "    'adam':adam,\n",
        "    'momentum':momentum,\n",
        "    'rms':rms,\n",
        "    'x':x\n",
        "      }\n",
        "data=pd.DataFrame(lists)\n",
        "df = pd.melt(data, id_vars=['x'], var_name='line', value_name='y')\n",
        "df.head(20)"
      ],
      "metadata": {
        "colab": {
          "base_uri": "https://localhost:8080/"
        },
        "id": "Cov16ioZjxQt",
        "outputId": "47bec8ad-95a9-4460-947f-092074e0557e"
      },
      "execution_count": null,
      "outputs": [
        {
          "output_type": "execute_result",
          "data": {
            "text/plain": [
              "      x      line         y\n",
              "0   0.0      adam  0.981400\n",
              "1   1.0      adam  0.990612\n",
              "2   2.0      adam  0.988507\n",
              "3   3.0      adam  0.985436\n",
              "4   4.0      adam  0.985612\n",
              "5   5.0      adam  0.987894\n",
              "6   6.0      adam  0.987455\n",
              "7   7.0      adam  0.991227\n",
              "8   8.0      adam  0.990525\n",
              "9   9.0      adam  0.991227\n",
              "10  0.0  momentum  0.989911\n",
              "11  1.0  momentum  0.990525\n",
              "12  2.0  momentum  0.991139\n",
              "13  3.0  momentum  0.992367\n",
              "14  4.0  momentum  0.987278\n",
              "15  5.0  momentum  0.989473\n",
              "16  6.0  momentum  0.993420\n",
              "17  7.0  momentum  0.991490\n",
              "18  8.0  momentum  0.986227\n",
              "19  9.0  momentum  0.986490"
            ],
            "text/html": [
              "\n",
              "  <div id=\"df-e6111da8-2f40-46a4-97b0-0a38f0ed49c7\">\n",
              "    <div class=\"colab-df-container\">\n",
              "      <div>\n",
              "<style scoped>\n",
              "    .dataframe tbody tr th:only-of-type {\n",
              "        vertical-align: middle;\n",
              "    }\n",
              "\n",
              "    .dataframe tbody tr th {\n",
              "        vertical-align: top;\n",
              "    }\n",
              "\n",
              "    .dataframe thead th {\n",
              "        text-align: right;\n",
              "    }\n",
              "</style>\n",
              "<table border=\"1\" class=\"dataframe\">\n",
              "  <thead>\n",
              "    <tr style=\"text-align: right;\">\n",
              "      <th></th>\n",
              "      <th>x</th>\n",
              "      <th>line</th>\n",
              "      <th>y</th>\n",
              "    </tr>\n",
              "  </thead>\n",
              "  <tbody>\n",
              "    <tr>\n",
              "      <th>0</th>\n",
              "      <td>0.0</td>\n",
              "      <td>adam</td>\n",
              "      <td>0.981400</td>\n",
              "    </tr>\n",
              "    <tr>\n",
              "      <th>1</th>\n",
              "      <td>1.0</td>\n",
              "      <td>adam</td>\n",
              "      <td>0.990612</td>\n",
              "    </tr>\n",
              "    <tr>\n",
              "      <th>2</th>\n",
              "      <td>2.0</td>\n",
              "      <td>adam</td>\n",
              "      <td>0.988507</td>\n",
              "    </tr>\n",
              "    <tr>\n",
              "      <th>3</th>\n",
              "      <td>3.0</td>\n",
              "      <td>adam</td>\n",
              "      <td>0.985436</td>\n",
              "    </tr>\n",
              "    <tr>\n",
              "      <th>4</th>\n",
              "      <td>4.0</td>\n",
              "      <td>adam</td>\n",
              "      <td>0.985612</td>\n",
              "    </tr>\n",
              "    <tr>\n",
              "      <th>5</th>\n",
              "      <td>5.0</td>\n",
              "      <td>adam</td>\n",
              "      <td>0.987894</td>\n",
              "    </tr>\n",
              "    <tr>\n",
              "      <th>6</th>\n",
              "      <td>6.0</td>\n",
              "      <td>adam</td>\n",
              "      <td>0.987455</td>\n",
              "    </tr>\n",
              "    <tr>\n",
              "      <th>7</th>\n",
              "      <td>7.0</td>\n",
              "      <td>adam</td>\n",
              "      <td>0.991227</td>\n",
              "    </tr>\n",
              "    <tr>\n",
              "      <th>8</th>\n",
              "      <td>8.0</td>\n",
              "      <td>adam</td>\n",
              "      <td>0.990525</td>\n",
              "    </tr>\n",
              "    <tr>\n",
              "      <th>9</th>\n",
              "      <td>9.0</td>\n",
              "      <td>adam</td>\n",
              "      <td>0.991227</td>\n",
              "    </tr>\n",
              "    <tr>\n",
              "      <th>10</th>\n",
              "      <td>0.0</td>\n",
              "      <td>momentum</td>\n",
              "      <td>0.989911</td>\n",
              "    </tr>\n",
              "    <tr>\n",
              "      <th>11</th>\n",
              "      <td>1.0</td>\n",
              "      <td>momentum</td>\n",
              "      <td>0.990525</td>\n",
              "    </tr>\n",
              "    <tr>\n",
              "      <th>12</th>\n",
              "      <td>2.0</td>\n",
              "      <td>momentum</td>\n",
              "      <td>0.991139</td>\n",
              "    </tr>\n",
              "    <tr>\n",
              "      <th>13</th>\n",
              "      <td>3.0</td>\n",
              "      <td>momentum</td>\n",
              "      <td>0.992367</td>\n",
              "    </tr>\n",
              "    <tr>\n",
              "      <th>14</th>\n",
              "      <td>4.0</td>\n",
              "      <td>momentum</td>\n",
              "      <td>0.987278</td>\n",
              "    </tr>\n",
              "    <tr>\n",
              "      <th>15</th>\n",
              "      <td>5.0</td>\n",
              "      <td>momentum</td>\n",
              "      <td>0.989473</td>\n",
              "    </tr>\n",
              "    <tr>\n",
              "      <th>16</th>\n",
              "      <td>6.0</td>\n",
              "      <td>momentum</td>\n",
              "      <td>0.993420</td>\n",
              "    </tr>\n",
              "    <tr>\n",
              "      <th>17</th>\n",
              "      <td>7.0</td>\n",
              "      <td>momentum</td>\n",
              "      <td>0.991490</td>\n",
              "    </tr>\n",
              "    <tr>\n",
              "      <th>18</th>\n",
              "      <td>8.0</td>\n",
              "      <td>momentum</td>\n",
              "      <td>0.986227</td>\n",
              "    </tr>\n",
              "    <tr>\n",
              "      <th>19</th>\n",
              "      <td>9.0</td>\n",
              "      <td>momentum</td>\n",
              "      <td>0.986490</td>\n",
              "    </tr>\n",
              "  </tbody>\n",
              "</table>\n",
              "</div>\n",
              "      <button class=\"colab-df-convert\" onclick=\"convertToInteractive('df-e6111da8-2f40-46a4-97b0-0a38f0ed49c7')\"\n",
              "              title=\"Convert this dataframe to an interactive table.\"\n",
              "              style=\"display:none;\">\n",
              "        \n",
              "  <svg xmlns=\"http://www.w3.org/2000/svg\" height=\"24px\"viewBox=\"0 0 24 24\"\n",
              "       width=\"24px\">\n",
              "    <path d=\"M0 0h24v24H0V0z\" fill=\"none\"/>\n",
              "    <path d=\"M18.56 5.44l.94 2.06.94-2.06 2.06-.94-2.06-.94-.94-2.06-.94 2.06-2.06.94zm-11 1L8.5 8.5l.94-2.06 2.06-.94-2.06-.94L8.5 2.5l-.94 2.06-2.06.94zm10 10l.94 2.06.94-2.06 2.06-.94-2.06-.94-.94-2.06-.94 2.06-2.06.94z\"/><path d=\"M17.41 7.96l-1.37-1.37c-.4-.4-.92-.59-1.43-.59-.52 0-1.04.2-1.43.59L10.3 9.45l-7.72 7.72c-.78.78-.78 2.05 0 2.83L4 21.41c.39.39.9.59 1.41.59.51 0 1.02-.2 1.41-.59l7.78-7.78 2.81-2.81c.8-.78.8-2.07 0-2.86zM5.41 20L4 18.59l7.72-7.72 1.47 1.35L5.41 20z\"/>\n",
              "  </svg>\n",
              "      </button>\n",
              "      \n",
              "  <style>\n",
              "    .colab-df-container {\n",
              "      display:flex;\n",
              "      flex-wrap:wrap;\n",
              "      gap: 12px;\n",
              "    }\n",
              "\n",
              "    .colab-df-convert {\n",
              "      background-color: #E8F0FE;\n",
              "      border: none;\n",
              "      border-radius: 50%;\n",
              "      cursor: pointer;\n",
              "      display: none;\n",
              "      fill: #1967D2;\n",
              "      height: 32px;\n",
              "      padding: 0 0 0 0;\n",
              "      width: 32px;\n",
              "    }\n",
              "\n",
              "    .colab-df-convert:hover {\n",
              "      background-color: #E2EBFA;\n",
              "      box-shadow: 0px 1px 2px rgba(60, 64, 67, 0.3), 0px 1px 3px 1px rgba(60, 64, 67, 0.15);\n",
              "      fill: #174EA6;\n",
              "    }\n",
              "\n",
              "    [theme=dark] .colab-df-convert {\n",
              "      background-color: #3B4455;\n",
              "      fill: #D2E3FC;\n",
              "    }\n",
              "\n",
              "    [theme=dark] .colab-df-convert:hover {\n",
              "      background-color: #434B5C;\n",
              "      box-shadow: 0px 1px 3px 1px rgba(0, 0, 0, 0.15);\n",
              "      filter: drop-shadow(0px 1px 2px rgba(0, 0, 0, 0.3));\n",
              "      fill: #FFFFFF;\n",
              "    }\n",
              "  </style>\n",
              "\n",
              "      <script>\n",
              "        const buttonEl =\n",
              "          document.querySelector('#df-e6111da8-2f40-46a4-97b0-0a38f0ed49c7 button.colab-df-convert');\n",
              "        buttonEl.style.display =\n",
              "          google.colab.kernel.accessAllowed ? 'block' : 'none';\n",
              "\n",
              "        async function convertToInteractive(key) {\n",
              "          const element = document.querySelector('#df-e6111da8-2f40-46a4-97b0-0a38f0ed49c7');\n",
              "          const dataTable =\n",
              "            await google.colab.kernel.invokeFunction('convertToInteractive',\n",
              "                                                     [key], {});\n",
              "          if (!dataTable) return;\n",
              "\n",
              "          const docLinkHtml = 'Like what you see? Visit the ' +\n",
              "            '<a target=\"_blank\" href=https://colab.research.google.com/notebooks/data_table.ipynb>data table notebook</a>'\n",
              "            + ' to learn more about interactive tables.';\n",
              "          element.innerHTML = '';\n",
              "          dataTable['output_type'] = 'display_data';\n",
              "          await google.colab.output.renderOutput(dataTable, element);\n",
              "          const docLink = document.createElement('div');\n",
              "          docLink.innerHTML = docLinkHtml;\n",
              "          element.appendChild(docLink);\n",
              "        }\n",
              "      </script>\n",
              "    </div>\n",
              "  </div>\n",
              "  "
            ]
          },
          "metadata": {},
          "execution_count": 22
        }
      ]
    },
    {
      "cell_type": "code",
      "source": [
        "import plotly.express as px\n",
        "fig = px.line(df, x='x', y='y', color='line',markers=True)\n",
        "fig.show()"
      ],
      "metadata": {
        "colab": {
          "base_uri": "https://localhost:8080/",
          "height": 542
        },
        "id": "dxiGQCRPuzcF",
        "outputId": "16a4cb23-e8c8-4ddd-9ab3-c94961fd524b"
      },
      "execution_count": null,
      "outputs": [
        {
          "output_type": "display_data",
          "data": {
            "text/html": [
              "<html>\n",
              "<head><meta charset=\"utf-8\" /></head>\n",
              "<body>\n",
              "    <div>            <script src=\"https://cdnjs.cloudflare.com/ajax/libs/mathjax/2.7.5/MathJax.js?config=TeX-AMS-MML_SVG\"></script><script type=\"text/javascript\">if (window.MathJax && window.MathJax.Hub && window.MathJax.Hub.Config) {window.MathJax.Hub.Config({SVG: {font: \"STIX-Web\"}});}</script>                <script type=\"text/javascript\">window.PlotlyConfig = {MathJaxConfig: 'local'};</script>\n",
              "        <script src=\"https://cdn.plot.ly/plotly-2.18.2.min.js\"></script>                <div id=\"676eaf5b-a1e7-43ee-b0a0-dcf6a6118f0c\" class=\"plotly-graph-div\" style=\"height:525px; width:100%;\"></div>            <script type=\"text/javascript\">                                    window.PLOTLYENV=window.PLOTLYENV || {};                                    if (document.getElementById(\"676eaf5b-a1e7-43ee-b0a0-dcf6a6118f0c\")) {                    Plotly.newPlot(                        \"676eaf5b-a1e7-43ee-b0a0-dcf6a6118f0c\",                        [{\"hovertemplate\":\"line=adam<br>x=%{x}<br>y=%{y}<extra></extra>\",\"legendgroup\":\"adam\",\"line\":{\"color\":\"#636efa\",\"dash\":\"solid\"},\"marker\":{\"symbol\":\"circle\"},\"mode\":\"markers+lines\",\"name\":\"adam\",\"orientation\":\"v\",\"showlegend\":true,\"x\":[0.0,1.0,2.0,3.0,4.0,5.0,6.0,7.0,8.0,9.0],\"xaxis\":\"x\",\"y\":[0.9814002456571328,0.9906123881382699,0.9885067555711529,0.9854360414107738,0.9856115107913669,0.9878936748837618,0.9874550399157821,0.9912273006404071,0.9905254846916396,0.9912273006404071],\"yaxis\":\"y\",\"type\":\"scatter\"},{\"hovertemplate\":\"line=momentum<br>x=%{x}<br>y=%{y}<extra></extra>\",\"legendgroup\":\"momentum\",\"line\":{\"color\":\"#EF553B\",\"dash\":\"solid\"},\"marker\":{\"symbol\":\"circle\"},\"mode\":\"markers+lines\",\"name\":\"momentum\",\"orientation\":\"v\",\"showlegend\":true,\"x\":[0.0,1.0,2.0,3.0,4.0,5.0,6.0,7.0,8.0,9.0],\"xaxis\":\"x\",\"y\":[0.9899105106158975,0.9905246534479734,0.9911387962800491,0.9923670819442008,0.9872784699070012,0.9894727607684884,0.9934204754803053,0.9914904816211948,0.9862268620054391,0.9864900429862269],\"yaxis\":\"y\",\"type\":\"scatter\"},{\"hovertemplate\":\"line=rms<br>x=%{x}<br>y=%{y}<extra></extra>\",\"legendgroup\":\"rms\",\"line\":{\"color\":\"#00cc96\",\"dash\":\"solid\"},\"marker\":{\"symbol\":\"circle\"},\"mode\":\"markers+lines\",\"name\":\"rms\",\"orientation\":\"v\",\"showlegend\":true,\"x\":[0.0,1.0,2.0,3.0,4.0,5.0,6.0,7.0,8.0,9.0],\"xaxis\":\"x\",\"y\":[0.988857694332339,0.9914020003509387,0.9870152658361115,0.9889454290226356,0.9892086330935251,0.9904377576980437,0.9908763926660233,0.9877182208965699,0.9924554785507501,0.9912273006404071],\"yaxis\":\"y\",\"type\":\"scatter\"}],                        {\"template\":{\"data\":{\"histogram2dcontour\":[{\"type\":\"histogram2dcontour\",\"colorbar\":{\"outlinewidth\":0,\"ticks\":\"\"},\"colorscale\":[[0.0,\"#0d0887\"],[0.1111111111111111,\"#46039f\"],[0.2222222222222222,\"#7201a8\"],[0.3333333333333333,\"#9c179e\"],[0.4444444444444444,\"#bd3786\"],[0.5555555555555556,\"#d8576b\"],[0.6666666666666666,\"#ed7953\"],[0.7777777777777778,\"#fb9f3a\"],[0.8888888888888888,\"#fdca26\"],[1.0,\"#f0f921\"]]}],\"choropleth\":[{\"type\":\"choropleth\",\"colorbar\":{\"outlinewidth\":0,\"ticks\":\"\"}}],\"histogram2d\":[{\"type\":\"histogram2d\",\"colorbar\":{\"outlinewidth\":0,\"ticks\":\"\"},\"colorscale\":[[0.0,\"#0d0887\"],[0.1111111111111111,\"#46039f\"],[0.2222222222222222,\"#7201a8\"],[0.3333333333333333,\"#9c179e\"],[0.4444444444444444,\"#bd3786\"],[0.5555555555555556,\"#d8576b\"],[0.6666666666666666,\"#ed7953\"],[0.7777777777777778,\"#fb9f3a\"],[0.8888888888888888,\"#fdca26\"],[1.0,\"#f0f921\"]]}],\"heatmap\":[{\"type\":\"heatmap\",\"colorbar\":{\"outlinewidth\":0,\"ticks\":\"\"},\"colorscale\":[[0.0,\"#0d0887\"],[0.1111111111111111,\"#46039f\"],[0.2222222222222222,\"#7201a8\"],[0.3333333333333333,\"#9c179e\"],[0.4444444444444444,\"#bd3786\"],[0.5555555555555556,\"#d8576b\"],[0.6666666666666666,\"#ed7953\"],[0.7777777777777778,\"#fb9f3a\"],[0.8888888888888888,\"#fdca26\"],[1.0,\"#f0f921\"]]}],\"heatmapgl\":[{\"type\":\"heatmapgl\",\"colorbar\":{\"outlinewidth\":0,\"ticks\":\"\"},\"colorscale\":[[0.0,\"#0d0887\"],[0.1111111111111111,\"#46039f\"],[0.2222222222222222,\"#7201a8\"],[0.3333333333333333,\"#9c179e\"],[0.4444444444444444,\"#bd3786\"],[0.5555555555555556,\"#d8576b\"],[0.6666666666666666,\"#ed7953\"],[0.7777777777777778,\"#fb9f3a\"],[0.8888888888888888,\"#fdca26\"],[1.0,\"#f0f921\"]]}],\"contourcarpet\":[{\"type\":\"contourcarpet\",\"colorbar\":{\"outlinewidth\":0,\"ticks\":\"\"}}],\"contour\":[{\"type\":\"contour\",\"colorbar\":{\"outlinewidth\":0,\"ticks\":\"\"},\"colorscale\":[[0.0,\"#0d0887\"],[0.1111111111111111,\"#46039f\"],[0.2222222222222222,\"#7201a8\"],[0.3333333333333333,\"#9c179e\"],[0.4444444444444444,\"#bd3786\"],[0.5555555555555556,\"#d8576b\"],[0.6666666666666666,\"#ed7953\"],[0.7777777777777778,\"#fb9f3a\"],[0.8888888888888888,\"#fdca26\"],[1.0,\"#f0f921\"]]}],\"surface\":[{\"type\":\"surface\",\"colorbar\":{\"outlinewidth\":0,\"ticks\":\"\"},\"colorscale\":[[0.0,\"#0d0887\"],[0.1111111111111111,\"#46039f\"],[0.2222222222222222,\"#7201a8\"],[0.3333333333333333,\"#9c179e\"],[0.4444444444444444,\"#bd3786\"],[0.5555555555555556,\"#d8576b\"],[0.6666666666666666,\"#ed7953\"],[0.7777777777777778,\"#fb9f3a\"],[0.8888888888888888,\"#fdca26\"],[1.0,\"#f0f921\"]]}],\"mesh3d\":[{\"type\":\"mesh3d\",\"colorbar\":{\"outlinewidth\":0,\"ticks\":\"\"}}],\"scatter\":[{\"fillpattern\":{\"fillmode\":\"overlay\",\"size\":10,\"solidity\":0.2},\"type\":\"scatter\"}],\"parcoords\":[{\"type\":\"parcoords\",\"line\":{\"colorbar\":{\"outlinewidth\":0,\"ticks\":\"\"}}}],\"scatterpolargl\":[{\"type\":\"scatterpolargl\",\"marker\":{\"colorbar\":{\"outlinewidth\":0,\"ticks\":\"\"}}}],\"bar\":[{\"error_x\":{\"color\":\"#2a3f5f\"},\"error_y\":{\"color\":\"#2a3f5f\"},\"marker\":{\"line\":{\"color\":\"#E5ECF6\",\"width\":0.5},\"pattern\":{\"fillmode\":\"overlay\",\"size\":10,\"solidity\":0.2}},\"type\":\"bar\"}],\"scattergeo\":[{\"type\":\"scattergeo\",\"marker\":{\"colorbar\":{\"outlinewidth\":0,\"ticks\":\"\"}}}],\"scatterpolar\":[{\"type\":\"scatterpolar\",\"marker\":{\"colorbar\":{\"outlinewidth\":0,\"ticks\":\"\"}}}],\"histogram\":[{\"marker\":{\"pattern\":{\"fillmode\":\"overlay\",\"size\":10,\"solidity\":0.2}},\"type\":\"histogram\"}],\"scattergl\":[{\"type\":\"scattergl\",\"marker\":{\"colorbar\":{\"outlinewidth\":0,\"ticks\":\"\"}}}],\"scatter3d\":[{\"type\":\"scatter3d\",\"line\":{\"colorbar\":{\"outlinewidth\":0,\"ticks\":\"\"}},\"marker\":{\"colorbar\":{\"outlinewidth\":0,\"ticks\":\"\"}}}],\"scattermapbox\":[{\"type\":\"scattermapbox\",\"marker\":{\"colorbar\":{\"outlinewidth\":0,\"ticks\":\"\"}}}],\"scatterternary\":[{\"type\":\"scatterternary\",\"marker\":{\"colorbar\":{\"outlinewidth\":0,\"ticks\":\"\"}}}],\"scattercarpet\":[{\"type\":\"scattercarpet\",\"marker\":{\"colorbar\":{\"outlinewidth\":0,\"ticks\":\"\"}}}],\"carpet\":[{\"aaxis\":{\"endlinecolor\":\"#2a3f5f\",\"gridcolor\":\"white\",\"linecolor\":\"white\",\"minorgridcolor\":\"white\",\"startlinecolor\":\"#2a3f5f\"},\"baxis\":{\"endlinecolor\":\"#2a3f5f\",\"gridcolor\":\"white\",\"linecolor\":\"white\",\"minorgridcolor\":\"white\",\"startlinecolor\":\"#2a3f5f\"},\"type\":\"carpet\"}],\"table\":[{\"cells\":{\"fill\":{\"color\":\"#EBF0F8\"},\"line\":{\"color\":\"white\"}},\"header\":{\"fill\":{\"color\":\"#C8D4E3\"},\"line\":{\"color\":\"white\"}},\"type\":\"table\"}],\"barpolar\":[{\"marker\":{\"line\":{\"color\":\"#E5ECF6\",\"width\":0.5},\"pattern\":{\"fillmode\":\"overlay\",\"size\":10,\"solidity\":0.2}},\"type\":\"barpolar\"}],\"pie\":[{\"automargin\":true,\"type\":\"pie\"}]},\"layout\":{\"autotypenumbers\":\"strict\",\"colorway\":[\"#636efa\",\"#EF553B\",\"#00cc96\",\"#ab63fa\",\"#FFA15A\",\"#19d3f3\",\"#FF6692\",\"#B6E880\",\"#FF97FF\",\"#FECB52\"],\"font\":{\"color\":\"#2a3f5f\"},\"hovermode\":\"closest\",\"hoverlabel\":{\"align\":\"left\"},\"paper_bgcolor\":\"white\",\"plot_bgcolor\":\"#E5ECF6\",\"polar\":{\"bgcolor\":\"#E5ECF6\",\"angularaxis\":{\"gridcolor\":\"white\",\"linecolor\":\"white\",\"ticks\":\"\"},\"radialaxis\":{\"gridcolor\":\"white\",\"linecolor\":\"white\",\"ticks\":\"\"}},\"ternary\":{\"bgcolor\":\"#E5ECF6\",\"aaxis\":{\"gridcolor\":\"white\",\"linecolor\":\"white\",\"ticks\":\"\"},\"baxis\":{\"gridcolor\":\"white\",\"linecolor\":\"white\",\"ticks\":\"\"},\"caxis\":{\"gridcolor\":\"white\",\"linecolor\":\"white\",\"ticks\":\"\"}},\"coloraxis\":{\"colorbar\":{\"outlinewidth\":0,\"ticks\":\"\"}},\"colorscale\":{\"sequential\":[[0.0,\"#0d0887\"],[0.1111111111111111,\"#46039f\"],[0.2222222222222222,\"#7201a8\"],[0.3333333333333333,\"#9c179e\"],[0.4444444444444444,\"#bd3786\"],[0.5555555555555556,\"#d8576b\"],[0.6666666666666666,\"#ed7953\"],[0.7777777777777778,\"#fb9f3a\"],[0.8888888888888888,\"#fdca26\"],[1.0,\"#f0f921\"]],\"sequentialminus\":[[0.0,\"#0d0887\"],[0.1111111111111111,\"#46039f\"],[0.2222222222222222,\"#7201a8\"],[0.3333333333333333,\"#9c179e\"],[0.4444444444444444,\"#bd3786\"],[0.5555555555555556,\"#d8576b\"],[0.6666666666666666,\"#ed7953\"],[0.7777777777777778,\"#fb9f3a\"],[0.8888888888888888,\"#fdca26\"],[1.0,\"#f0f921\"]],\"diverging\":[[0,\"#8e0152\"],[0.1,\"#c51b7d\"],[0.2,\"#de77ae\"],[0.3,\"#f1b6da\"],[0.4,\"#fde0ef\"],[0.5,\"#f7f7f7\"],[0.6,\"#e6f5d0\"],[0.7,\"#b8e186\"],[0.8,\"#7fbc41\"],[0.9,\"#4d9221\"],[1,\"#276419\"]]},\"xaxis\":{\"gridcolor\":\"white\",\"linecolor\":\"white\",\"ticks\":\"\",\"title\":{\"standoff\":15},\"zerolinecolor\":\"white\",\"automargin\":true,\"zerolinewidth\":2},\"yaxis\":{\"gridcolor\":\"white\",\"linecolor\":\"white\",\"ticks\":\"\",\"title\":{\"standoff\":15},\"zerolinecolor\":\"white\",\"automargin\":true,\"zerolinewidth\":2},\"scene\":{\"xaxis\":{\"backgroundcolor\":\"#E5ECF6\",\"gridcolor\":\"white\",\"linecolor\":\"white\",\"showbackground\":true,\"ticks\":\"\",\"zerolinecolor\":\"white\",\"gridwidth\":2},\"yaxis\":{\"backgroundcolor\":\"#E5ECF6\",\"gridcolor\":\"white\",\"linecolor\":\"white\",\"showbackground\":true,\"ticks\":\"\",\"zerolinecolor\":\"white\",\"gridwidth\":2},\"zaxis\":{\"backgroundcolor\":\"#E5ECF6\",\"gridcolor\":\"white\",\"linecolor\":\"white\",\"showbackground\":true,\"ticks\":\"\",\"zerolinecolor\":\"white\",\"gridwidth\":2}},\"shapedefaults\":{\"line\":{\"color\":\"#2a3f5f\"}},\"annotationdefaults\":{\"arrowcolor\":\"#2a3f5f\",\"arrowhead\":0,\"arrowwidth\":1},\"geo\":{\"bgcolor\":\"white\",\"landcolor\":\"#E5ECF6\",\"subunitcolor\":\"white\",\"showland\":true,\"showlakes\":true,\"lakecolor\":\"white\"},\"title\":{\"x\":0.05},\"mapbox\":{\"style\":\"light\"}}},\"xaxis\":{\"anchor\":\"y\",\"domain\":[0.0,1.0],\"title\":{\"text\":\"x\"}},\"yaxis\":{\"anchor\":\"x\",\"domain\":[0.0,1.0],\"title\":{\"text\":\"y\"}},\"legend\":{\"title\":{\"text\":\"line\"},\"tracegroupgap\":0},\"margin\":{\"t\":60}},                        {\"responsive\": true}                    ).then(function(){\n",
              "                            \n",
              "var gd = document.getElementById('676eaf5b-a1e7-43ee-b0a0-dcf6a6118f0c');\n",
              "var x = new MutationObserver(function (mutations, observer) {{\n",
              "        var display = window.getComputedStyle(gd).display;\n",
              "        if (!display || display === 'none') {{\n",
              "            console.log([gd, 'removed!']);\n",
              "            Plotly.purge(gd);\n",
              "            observer.disconnect();\n",
              "        }}\n",
              "}});\n",
              "\n",
              "// Listen for the removal of the full notebook cells\n",
              "var notebookContainer = gd.closest('#notebook-container');\n",
              "if (notebookContainer) {{\n",
              "    x.observe(notebookContainer, {childList: true});\n",
              "}}\n",
              "\n",
              "// Listen for the clearing of the current output cell\n",
              "var outputEl = gd.closest('.output');\n",
              "if (outputEl) {{\n",
              "    x.observe(outputEl, {childList: true});\n",
              "}}\n",
              "\n",
              "                        })                };                            </script>        </div>\n",
              "</body>\n",
              "</html>"
            ]
          },
          "metadata": {}
        }
      ]
    },
    {
      "cell_type": "code",
      "source": [],
      "metadata": {
        "id": "TDE_9zOevY5A"
      },
      "execution_count": null,
      "outputs": []
    }
  ],
  "metadata": {
    "colab": {
      "provenance": [],
      "include_colab_link": true
    },
    "kernelspec": {
      "display_name": "Python 3",
      "name": "python3"
    },
    "language_info": {
      "name": "python"
    }
  },
  "nbformat": 4,
  "nbformat_minor": 0
}